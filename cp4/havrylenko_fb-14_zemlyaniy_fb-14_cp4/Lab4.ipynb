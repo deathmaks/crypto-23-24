{
  "nbformat": 4,
  "nbformat_minor": 0,
  "metadata": {
    "colab": {
      "provenance": []
    },
    "kernelspec": {
      "name": "python3",
      "display_name": "Python 3"
    },
    "language_info": {
      "name": "python"
    }
  },
  "cells": [
    {
      "cell_type": "markdown",
      "source": [
        "1. Написати функцію пошуку випадкового простого числа з заданого\n",
        "інтервалу або заданої довжини, використовуючи датчик випадкових\n",
        "чисел та тести перевірки на простоту. В якості датчика випадкових\n",
        "чисел використовуйте вбудований генератор псевдовипадкових чисел\n",
        "вашої мови програмування. В якості тесту перевірки на простоту\n",
        "рекомендовано використовувати тест Міллера-Рабіна із попередніми\n",
        "пробними діленнями. Тести необхідно реалізовувати власноруч,\n",
        "використання готових реалізацій тестів не дозволяється"
      ],
      "metadata": {
        "id": "ntSchW3SV3pF"
      }
    },
    {
      "cell_type": "code",
      "execution_count": 20,
      "metadata": {
        "colab": {
          "base_uri": "https://localhost:8080/"
        },
        "id": "76U6XSxIVot0",
        "outputId": "e3c738ee-6bbb-42b2-b745-ccab2c141796"
      },
      "outputs": [
        {
          "output_type": "execute_result",
          "data": {
            "text/plain": [
              "45691"
            ]
          },
          "metadata": {},
          "execution_count": 20
        }
      ],
      "source": [
        "import random\n",
        "\n",
        "# Function to check if a number is probably prime using Miller-Rabin test with preliminary divisions\n",
        "def is_prime(n, k=10):\n",
        "    # Handle small numbers directly\n",
        "    if n in (2, 3):\n",
        "        return True\n",
        "    if n <= 1 or n % 2 == 0:\n",
        "        return False\n",
        "\n",
        "    # Preliminary divisions by first few primes\n",
        "    for p in [2, 3, 5, 7, 11, 13, 17, 19, 23, 29]:\n",
        "        if n % p == 0 and n != p:\n",
        "            return False\n",
        "\n",
        "    # Write n as 2^r * d + 1 with d odd\n",
        "    r, d = 0, n - 1\n",
        "    while d % 2 == 0:\n",
        "        r += 1\n",
        "        d //= 2\n",
        "\n",
        "    # Witness loop\n",
        "    for _ in range(k):\n",
        "        a = random.randint(2, n - 2)\n",
        "        x = pow(a, d, n)\n",
        "        if x == 1 or x == n - 1:\n",
        "            continue\n",
        "\n",
        "        for _ in range(r - 1):\n",
        "            x = pow(x, 2, n)\n",
        "            if x == n - 1:\n",
        "                break\n",
        "        else:\n",
        "            return False\n",
        "\n",
        "    return True\n",
        "\n",
        "# Function to generate a random prime number within a given range or of a given bit length\n",
        "def generate_random_prime(min_val=None, max_val=None, bit_length=None):\n",
        "    if bit_length is not None:\n",
        "        min_val = 2 ** (bit_length - 1)\n",
        "        max_val = 2 ** bit_length - 1\n",
        "\n",
        "    # Ensure min_val and max_val are set\n",
        "    if min_val is None or max_val is None:\n",
        "        raise ValueError(\"Either range or bit length must be specified\")\n",
        "\n",
        "    # Generate prime within the range\n",
        "    while True:\n",
        "        candidate = random.randint(min_val, max_val)\n",
        "        if is_prime(candidate):\n",
        "            return candidate\n",
        "\n",
        "# Example usage\n",
        "generate_random_prime(bit_length=16)  # Generate a random prime number with a bit length of 16"
      ]
    },
    {
      "cell_type": "markdown",
      "source": [
        "2. За допомогою цієї функції згенерувати дві пари простих чисел p, q і\n",
        "p1 , q1 довжини щонайменше 256 біт. При цьому пари чисел беруться\n",
        "так, щоб pq <= p1q1 ; p і q – прості числа для побудови ключів\n",
        "абонента А, 1 p і q1 – абонента B"
      ],
      "metadata": {
        "id": "sHxBgwAZWsCb"
      }
    },
    {
      "cell_type": "code",
      "source": [
        "# Generate two pairs of prime numbers (p, q) and (p1, q1) of at least 256 bits\n",
        "p, q = generate_random_prime(bit_length=256), generate_random_prime(bit_length=256)\n",
        "p1, q1 = generate_random_prime(bit_length=256), generate_random_prime(bit_length=256)\n",
        "\n",
        "# Ensure pq <= p1q1\n",
        "while p * q > p1 * q1:\n",
        "    p, q = generate_random_prime(bit_length=256), generate_random_prime(bit_length=256)\n",
        "    p1, q1 = generate_random_prime(bit_length=256), generate_random_prime(bit_length=256)\n",
        "\n",
        "p, q, p1, q1, p * q, p1 * q1\n"
      ],
      "metadata": {
        "colab": {
          "base_uri": "https://localhost:8080/"
        },
        "id": "1khepCejpNVv",
        "outputId": "69d7635f-746c-40eb-ebba-a007f9f1409a"
      },
      "execution_count": 21,
      "outputs": [
        {
          "output_type": "execute_result",
          "data": {
            "text/plain": [
              "(67371973346209419211789180669081363225326293303100421965387021702825761817179,\n",
              " 59678562125646611280302744184045063338864632494171807540279605231651169688397,\n",
              " 87144972348380098875217851672633659519270968515987624014459808885927429563641,\n",
              " 109500995730372528928337379180340992144271301924626217818047591078035411808521,\n",
              " 4020662496869166435632843979765416721302177787094346899681706220934698943716427818815088701768111017070855349926288997853682345457040241720225589911572063,\n",
              " 9542461245043401302511140358937085523994410764980237612926904866361322098050268510754200799467718971918914602878645972754337016645559461262207369675584961)"
            ]
          },
          "metadata": {},
          "execution_count": 21
        }
      ]
    },
    {
      "cell_type": "markdown",
      "source": [
        "3. Написати функцію генерації ключових пар для RSA. Після\n",
        "генерування функція повинна повертати та/або зберігати секретний\n",
        "ключ (d, p,q) та відкритий ключ (n,e) . За допомогою цієї функції\n",
        "побудувати схеми RSA для абонентів А і B – тобто, створити та\n",
        "зберегти для подальшого використання відкриті ключі (e,n) , (e1, n1)\n",
        "та секретні d і d1"
      ],
      "metadata": {
        "id": "AEZm26DxXR5p"
      }
    },
    {
      "cell_type": "code",
      "source": [
        "def generate_rsa_key_pair(p, q, e=65537):\n",
        "    n = p * q\n",
        "    phi = (p - 1) * (q - 1)\n",
        "\n",
        "    # Ensure that e and phi are coprime\n",
        "    if gcd(e, phi) != 1:\n",
        "        raise ValueError(\"e and phi are not coprime.\")\n",
        "\n",
        "    # Calculate d\n",
        "    d = pow(e, -1, phi)\n",
        "\n",
        "    # The public key is (e, n) and the secret key is (d, p, q)\n",
        "    return (e, n), (d, p, q)\n",
        "\n",
        "# Generate RSA key pairs for subscribers A and B\n",
        "public_key_A, secret_key_A = generate_rsa_key_pair(p, q)\n",
        "public_key_B, secret_key_B = generate_rsa_key_pair(p1, q1)\n",
        "\n",
        "(public_key_A, secret_key_A, public_key_B, secret_key_B)\n"
      ],
      "metadata": {
        "colab": {
          "base_uri": "https://localhost:8080/"
        },
        "id": "LNSln4Y-qFc4",
        "outputId": "ea7d7e40-d271-4e1f-84af-2691c0b1cfbb"
      },
      "execution_count": 25,
      "outputs": [
        {
          "output_type": "execute_result",
          "data": {
            "text/plain": [
              "((65537,\n",
              "  4020662496869166435632843979765416721302177787094346899681706220934698943716427818815088701768111017070855349926288997853682345457040241720225589911572063),\n",
              " (1721160357502852806074117488629610237211538486914748955102770465970718508109324779194724363446128125257047047931470458799789671931862650170778066964550793,\n",
              "  67371973346209419211789180669081363225326293303100421965387021702825761817179,\n",
              "  59678562125646611280302744184045063338864632494171807540279605231651169688397),\n",
              " (65537,\n",
              "  9542461245043401302511140358937085523994410764980237612926904866361322098050268510754200799467718971918914602878645972754337016645559461262207369675584961),\n",
              " (754957681241894437547038508950498015501335426040595877489448734792307476362812191875063594806978675183905267899917663336115520218156526172631216937537473,\n",
              "  87144972348380098875217851672633659519270968515987624014459808885927429563641,\n",
              "  109500995730372528928337379180340992144271301924626217818047591078035411808521))"
            ]
          },
          "metadata": {},
          "execution_count": 25
        }
      ]
    },
    {
      "cell_type": "markdown",
      "source": [
        "4. Написати програму шифрування, розшифрування і створення\n",
        "повідомлення з цифровим підписом для абонентів А і B. Кожна з\n",
        "операцій (шифрування, розшифрування, створення цифрового\n",
        "підпису, перевірка цифрового підпису) повинна бути реалізована\n",
        "окремою процедурою, на вхід до якої повинні подаватись лише ті\n",
        "ключові дані, які необхідні для її виконання\n",
        "За допомогою датчика випадкових чисел вибрати відкрите\n",
        "повідомлення M і знайти криптограму для абонентів А и B,\n",
        "перевірити правильність розшифрування. Скласти для А і B\n",
        "повідомлення з цифровим підписом і перевірити його"
      ],
      "metadata": {
        "id": "EG7TVKrvq7PK"
      }
    },
    {
      "cell_type": "code",
      "source": [
        "# Function to encrypt a message using RSA\n",
        "def rsa_encrypt(message, public_key):\n",
        "    e, n = public_key\n",
        "    encrypted_message = [pow(ord(char), e, n) for char in message]\n",
        "    return encrypted_message\n",
        "\n",
        "# Function to decrypt a message using RSA\n",
        "def rsa_decrypt(encrypted_message, secret_key):\n",
        "    d, p, q = secret_key\n",
        "    n = p * q  # Calculate n from p and q\n",
        "\n",
        "    decrypted_message = ''.join([chr(pow(char, d, n)) for char in encrypted_message])\n",
        "    return decrypted_message\n",
        "\n",
        "# Function to create a digital signature using RSA\n",
        "def rsa_sign(message, secret_key):\n",
        "    d, p, q = secret_key\n",
        "    hash_of_message = simple_hash(message)\n",
        "    signature = pow(hash_of_message, d, p * q)\n",
        "    return signature\n",
        "\n",
        "# Function to verify a digital signature using RSA\n",
        "def rsa_verify_signature(message, signature, public_key):\n",
        "    e, n = public_key\n",
        "    hash_of_message = simple_hash(message)\n",
        "    hash_from_signature = pow(signature, e, n)\n",
        "    return hash_of_message == hash_from_signature\n",
        "\n",
        "# Generating a random message\n",
        "random_message = \"Hello, this is a secure message\"\n",
        "\n",
        "# Encrypt the message for both A and B\n",
        "encrypted_message_A = rsa_encrypt(random_message, public_key_A)\n",
        "encrypted_message_B = rsa_encrypt(random_message, public_key_B)\n",
        "\n",
        "# Decrypt the message for both A and B\n",
        "decrypted_message_A = rsa_decrypt(encrypted_message_A, secret_key_A)\n",
        "decrypted_message_B = rsa_decrypt(encrypted_message_B, secret_key_B)\n",
        "\n",
        "# Create a digital signature for both A and B\n",
        "signature_A = rsa_sign(random_message, secret_key_A)\n",
        "signature_B = rsa_sign(random_message, secret_key_B)\n",
        "\n",
        "# Verify the digital signature for both A and B\n",
        "verification_A = rsa_verify_signature(random_message, signature_A, public_key_A)\n",
        "verification_B = rsa_verify_signature(random_message, signature_B, public_key_B)\n",
        "\n",
        "(decrypted_message_A, decrypted_message_B, verification_A, verification_B)\n"
      ],
      "metadata": {
        "colab": {
          "base_uri": "https://localhost:8080/"
        },
        "id": "Ux-rwFuArk6u",
        "outputId": "b8fcd137-4b6c-44fd-b9f5-131f71e54b86"
      },
      "execution_count": 27,
      "outputs": [
        {
          "output_type": "execute_result",
          "data": {
            "text/plain": [
              "('Hello, this is a secure message',\n",
              " 'Hello, this is a secure message',\n",
              " True,\n",
              " True)"
            ]
          },
          "metadata": {},
          "execution_count": 27
        }
      ]
    },
    {
      "cell_type": "markdown",
      "source": [
        "5. За допомогою раніше написаних на попередніх етапах програм\n",
        "організувати роботу протоколу конфіденційного розсилання ключів з\n",
        "підтвердженням справжності по відкритому каналу за допомогою\n",
        "алгоритму RSA. Протоколи роботи кожного учасника (відправника та\n",
        "приймаючого) повинні бути реалізовані у вигляді окремих процедур,\n",
        "на вхід до яких повинні подаватись лише ті ключові дані, які необхідні\n",
        "для виконання. Перевірити роботу програм для випадково обраного\n",
        "ключа 0 < k < n"
      ],
      "metadata": {
        "id": "owAX1BtiuPMe"
      }
    },
    {
      "cell_type": "code",
      "source": [
        "# Function for the sender to encrypt and sign a key\n",
        "def sender_encrypt_and_sign(key, sender_secret_key, receiver_public_key):\n",
        "    # Encrypt the key using the receiver's public key\n",
        "    encrypted_key = rsa_encrypt(str(key), receiver_public_key)\n",
        "\n",
        "    # Sign the encrypted key using the sender's secret key\n",
        "    signature = rsa_sign(str(key), sender_secret_key)\n",
        "\n",
        "    return encrypted_key, signature\n",
        "\n",
        "# Function for the receiver to decrypt and verify the key\n",
        "def receiver_decrypt_and_verify(encrypted_key, signature, sender_public_key, receiver_secret_key):\n",
        "    # Decrypt the key using the receiver's secret key\n",
        "    decrypted_key = rsa_decrypt(encrypted_key, receiver_secret_key)\n",
        "\n",
        "    # Verify the signature using the sender's public key\n",
        "    is_valid_signature = rsa_verify_signature(decrypted_key, signature, sender_public_key)\n",
        "\n",
        "    return decrypted_key, is_valid_signature\n",
        "\n",
        "# Simulate the process of sending a key from A to B\n",
        "# Generate a random key 0 < k < n\n",
        "k = random.randint(1, public_key_B[1] - 1)\n",
        "\n",
        "# Sender (A) encrypts and signs the key\n",
        "encrypted_key, signature = sender_encrypt_and_sign(k, secret_key_A, public_key_B)\n",
        "\n",
        "# Receiver (B) decrypts the key and verifies the signature\n",
        "decrypted_key, is_valid_signature = receiver_decrypt_and_verify(encrypted_key, signature, public_key_A, secret_key_B)\n",
        "\n",
        "(k, decrypted_key, is_valid_signature)\n"
      ],
      "metadata": {
        "colab": {
          "base_uri": "https://localhost:8080/"
        },
        "id": "jjzPfkvPuPgk",
        "outputId": "e0d8aedc-6223-4b16-8a26-9eb76749dd74"
      },
      "execution_count": 28,
      "outputs": [
        {
          "output_type": "execute_result",
          "data": {
            "text/plain": [
              "(4640261432800888498121490316986318912133771596966748542050403015242232299777976827520941950369558862521829833601976425405344390702671997096966116901741082,\n",
              " '4640261432800888498121490316986318912133771596966748542050403015242232299777976827520941950369558862521829833601976425405344390702671997096966116901741082',\n",
              " True)"
            ]
          },
          "metadata": {},
          "execution_count": 28
        }
      ]
    }
  ]
}